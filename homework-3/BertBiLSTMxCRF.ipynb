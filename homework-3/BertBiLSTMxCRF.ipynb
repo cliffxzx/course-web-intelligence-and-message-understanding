{
 "cells": [
  {
   "cell_type": "code",
   "execution_count": 1,
   "metadata": {},
   "outputs": [],
   "source": [
    "import os\n",
    "import logging\n",
    "import warnings\n",
    "\n",
    "# os.environ['CUDA_VISIBLE_DEVICES'] = '3'\n",
    "os.environ['CUDA_LAUNCH_BLOCKING'] = '1'\n",
    "warnings.filterwarnings(\"ignore\")\n",
    "\n",
    "import torch\n",
    "import numpy as np\n",
    "import pandas as pd\n",
    "import torch.nn as nn\n",
    "import torch.optim as optim\n",
    "\n",
    "from datasets import load_dataset\n",
    "from sklearn import metrics\n",
    "from sklearn.model_selection import train_test_split\n",
    "from transformers import BertTokenizer, AutoTokenizer, BertModel, get_linear_schedule_with_warmup\n",
    "from transformers.optimization import get_cosine_schedule_with_warmup, AdamW\n",
    "from torch.utils.data import Dataset, DataLoader\n",
    "from torch.nn.utils.rnn import pad_sequence\n",
    "from torchcrf import CRF\n",
    "from tqdm import tqdm\n",
    "\n",
    "class config:\n",
    "    root_dir = ''\n",
    "    data_dir = root_dir + 'data/example_datasets_msra/'\n",
    "    load_before = False\n",
    "    # bert_model = 'microsoft/deberta-v3-large'\n",
    "    # bert_model = 'microsoft/deberta-v2-xxlarge'\n",
    "    # bert_model = 'microsoft/mdeberta-v3-base'\n",
    "    # bert_model = 'WENGSYX/Deberta-Chinese-Large'\n",
    "    bert_model = 'hfl/chinese-roberta-wwm-ext-large'\n",
    "    # bert_model = 'bert-base-uncased'\n",
    "    # bert_model = 'bert-base-chinese'\n",
    "    model_dir = root_dir + 'checkpoints/' + bert_model.split('/')[-1] + '.pt'\n",
    "    device = torch.device('cuda:5' if torch.cuda.is_available() else 'cpu')\n",
    "\n",
    "    # train config\n",
    "    output_dir = 'outputs/'\n",
    "    overwrite_output_dir = True\n",
    "    epoch = 11\n",
    "    batch_size = 256 + 256\n",
    "    fp16 = True\n",
    "    val_split_size = 0.13\n",
    "    test_split_size = 0.17\n",
    "    learning_rate = 3e-5\n",
    "    weight_decay = 0.01\n",
    "    clip_grad = 5\n",
    "    patience = 0.0002\n",
    "    patience_num = 10\n",
    "    max_sequence_length = 256\n",
    "    warm_up_ratio = 0.1\n",
    "\n",
    "    labels = ['O', 'B-PER', 'I-PER', 'B-ORG', 'I-ORG', 'B-LOC', 'I-LOC', '<PAD>', '[CLS]', '[SEP]']\n",
    "    label2id = {tag: idx for idx, tag in enumerate(labels)}\n",
    "    id2label = {idx: tag for idx, tag in enumerate(labels)}\n",
    "    num_labels = len(label2id)\n",
    "\n",
    "    tokenizer = BertTokenizer.from_pretrained(bert_model)"
   ]
  },
  {
   "cell_type": "code",
   "execution_count": 2,
   "metadata": {},
   "outputs": [],
   "source": [
    "class NERDataset(Dataset):\n",
    "    def __init__(self, words, labels, config, word_pad_idx=0, label_pad_idx=-1):\n",
    "        self.tokenizer = config.tokenizer\n",
    "        self.label2id = config.label2id\n",
    "        self.id2label = {_id: _label for _label, _id in list(config.label2id.items())}\n",
    "        self.dataset = self.preprocess(words, labels)\n",
    "        self.word_pad_idx = word_pad_idx\n",
    "        self.label_pad_idx = label_pad_idx\n",
    "        self.device = config.device\n",
    "\n",
    "    def preprocess(self, origin_sentences, origin_labels):\n",
    "        sentences = []\n",
    "        labels = []\n",
    "        for line, tag in zip(origin_sentences, origin_labels):\n",
    "            words = ['[CLS]'] + line[0:config.max_sequence_length-2] + ['[SEP]']\n",
    "            label = [8] + tag[0:config.max_sequence_length-2] + [9]\n",
    "            sentences.append(words)\n",
    "            labels.append(label)\n",
    "\n",
    "            start = config.max_sequence_length-2\n",
    "            while len(tag) > start:\n",
    "                sub_words = ['[SEP]'] + line[start:start+config.max_sequence_length-2] + ['[SEP]']\n",
    "                sub_label = [9] + tag[start:start+config.max_sequence_length-2] + [9]\n",
    "                sentences.append(sub_words)\n",
    "                labels.append(sub_label)\n",
    "\n",
    "                start += config.max_sequence_length\n",
    "\n",
    "        data = [(sentence, label) for sentence, label in zip(sentences, labels)]\n",
    "        return data\n",
    "\n",
    "    def __getitem__(self, idx):\n",
    "        words, tags = self.dataset[idx]\n",
    "        token_ids = self.tokenizer.convert_tokens_to_ids(words)\n",
    "        return token_ids, tags\n",
    "\n",
    "    def __len__(self):\n",
    "        return len(self.dataset)\n",
    "\n",
    "    def collate_fn(self, batch):\n",
    "        token_tensors = torch.LongTensor([i[0] + [7] * (config.max_sequence_length - len(i[0])) for i in batch])\n",
    "        label_tensors = torch.LongTensor([i[1] + [7] * (config.max_sequence_length - len(i[1])) for i in batch])\n",
    "        mask = (token_tensors > 0)\n",
    "        return token_tensors, label_tensors, mask"
   ]
  },
  {
   "cell_type": "code",
   "execution_count": 3,
   "metadata": {},
   "outputs": [
    {
     "name": "stderr",
     "output_type": "stream",
     "text": [
      "Reusing dataset msra_ner (/home/jovyan/.cache/huggingface/datasets/msra_ner/msra_ner/1.0.0/5ce47bc7f8da59fd9d0ad08d185fa72f5576b614f136a56e82c7669d22ea5cfe)\n"
     ]
    }
   ],
   "source": [
    "train_test_ds = load_dataset('msra_ner', split='train+test')\n",
    "train_x, test_x, train_y, test_y = train_test_split(\n",
    "    train_test_ds['tokens'], \n",
    "    train_test_ds['ner_tags'], \n",
    "    test_size=config.test_split_size, \n",
    "    # random_state=0,\n",
    "    # shuffle=True, \n",
    ")\n",
    "\n",
    "train_x, val_x, train_y, val_y = train_test_split(\n",
    "    train_x, \n",
    "    train_y, \n",
    "    test_size=config.val_split_size, \n",
    "    # random_state=0,\n",
    "    # shuffle=True, \n",
    ")\n",
    "\n",
    "train_dataset = NERDataset(train_x, train_y, config)\n",
    "val_dataset = NERDataset(val_x, val_y, config)\n",
    "test_dataset = NERDataset(test_x, test_y, config)\n",
    "\n",
    "train_loader = DataLoader(train_dataset, batch_size=config.batch_size, collate_fn=train_dataset.collate_fn, shuffle=False) # , num_workers=4\n",
    "val_loader = DataLoader(val_dataset, batch_size=config.batch_size, collate_fn=train_dataset.collate_fn, shuffle=False) # , num_workers=4\n",
    "test_loader = DataLoader(test_dataset, batch_size=config.batch_size, collate_fn=test_dataset.collate_fn, shuffle=False) # , num_workers=4"
   ]
  },
  {
   "cell_type": "code",
   "execution_count": 4,
   "metadata": {},
   "outputs": [],
   "source": [
    "class BertBiLSTMxCRF(nn.Module):\n",
    "    def __init__(self, config):\n",
    "        super(BertBiLSTMxCRF, self).__init__()\n",
    "        self.hidden_dim = 256\n",
    "\n",
    "        self.bert = BertModel.from_pretrained(config.bert_model)\n",
    "\n",
    "        self.embedding_dim = self.bert.config.hidden_size\n",
    "        self.bilstm = nn.LSTM(\n",
    "            input_size=self.embedding_dim,\n",
    "            hidden_size=self.hidden_dim // 2,\n",
    "            batch_first=True,\n",
    "            num_layers=2,\n",
    "            dropout=0.5,\n",
    "            bidirectional=True\n",
    "        )\n",
    "        self.dropout = nn.Dropout(0.1)\n",
    "        self.linear = nn.Linear(self.hidden_dim, config.num_labels)\n",
    "        self.crf = CRF(config.num_labels, batch_first=True)\n",
    "    \n",
    "    def _get_features(self, sentence):\n",
    "        with torch.no_grad():\n",
    "            embeds  = self.bert(sentence)\n",
    "        enc, _ = self.bilstm(embeds[0])\n",
    "        enc = self.dropout(enc)\n",
    "        feats = self.linear(enc)\n",
    "        return feats\n",
    "\n",
    "    def forward(self, sentence, tags, mask, is_test=False):\n",
    "        emissions = self._get_features(sentence)\n",
    "        if not is_test:\n",
    "            loss=-self.crf.forward(emissions, tags, mask, reduction='mean')\n",
    "            return loss\n",
    "        else:\n",
    "            decode=self.crf.decode(emissions, mask)\n",
    "            return decode"
   ]
  },
  {
   "cell_type": "code",
   "execution_count": 5,
   "metadata": {},
   "outputs": [
    {
     "name": "stderr",
     "output_type": "stream",
     "text": [
      "Some weights of the model checkpoint at hfl/chinese-roberta-wwm-ext-large were not used when initializing BertModel: ['cls.seq_relationship.weight', 'cls.predictions.transform.LayerNorm.bias', 'cls.predictions.decoder.weight', 'cls.predictions.bias', 'cls.predictions.transform.LayerNorm.weight', 'cls.predictions.transform.dense.bias', 'cls.seq_relationship.bias', 'cls.predictions.transform.dense.weight']\n",
      "- This IS expected if you are initializing BertModel from the checkpoint of a model trained on another task or with another architecture (e.g. initializing a BertForSequenceClassification model from a BertForPreTraining model).\n",
      "- This IS NOT expected if you are initializing BertModel from the checkpoint of a model that you expect to be exactly identical (initializing a BertForSequenceClassification model from a BertForSequenceClassification model).\n",
      "epoch: 1: 100%|██████████| 69/69 [09:49<00:00,  8.54s/it, train loss=30.8410] \n",
      "epoch: 1: 100%|██████████| 11/11 [03:10<00:00, 17.28s/it, val loss=38.0670]\n"
     ]
    },
    {
     "name": "stdout",
     "output_type": "stream",
     "text": [
      "{'avg val loss': '30.7694', 'val acc': 97.12711237349627}\n",
      "\n"
     ]
    },
    {
     "name": "stderr",
     "output_type": "stream",
     "text": [
      "epoch: 2: 100%|██████████| 69/69 [09:48<00:00,  8.52s/it, train loss=13.7840]\n",
      "epoch: 2: 100%|██████████| 11/11 [03:10<00:00, 17.30s/it, val loss=18.6632]\n"
     ]
    },
    {
     "name": "stdout",
     "output_type": "stream",
     "text": [
      "{'avg val loss': '13.9233', 'val acc': 98.27295565209089}\n",
      "\n"
     ]
    },
    {
     "name": "stderr",
     "output_type": "stream",
     "text": [
      "epoch: 3: 100%|██████████| 69/69 [09:47<00:00,  8.52s/it, train loss=8.6236] \n",
      "epoch: 3: 100%|██████████| 11/11 [03:09<00:00, 17.27s/it, val loss=11.6105]\n"
     ]
    },
    {
     "name": "stdout",
     "output_type": "stream",
     "text": [
      "{'avg val loss': '8.4782', 'val acc': 99.15639321176246}\n",
      "\n"
     ]
    },
    {
     "name": "stderr",
     "output_type": "stream",
     "text": [
      "epoch: 4: 100%|██████████| 69/69 [09:47<00:00,  8.52s/it, train loss=5.4973] \n",
      "epoch: 4: 100%|██████████| 11/11 [03:10<00:00, 17.33s/it, val loss=7.3351]\n"
     ]
    },
    {
     "name": "stdout",
     "output_type": "stream",
     "text": [
      "{'avg val loss': '5.3970', 'val acc': 99.44229461046402}\n",
      "\n"
     ]
    },
    {
     "name": "stderr",
     "output_type": "stream",
     "text": [
      "epoch: 5: 100%|██████████| 69/69 [09:52<00:00,  8.59s/it, train loss=3.9775]\n",
      "epoch: 5: 100%|██████████| 11/11 [03:08<00:00, 17.18s/it, val loss=5.2800]\n"
     ]
    },
    {
     "name": "stdout",
     "output_type": "stream",
     "text": [
      "{'avg val loss': '3.9070', 'val acc': 99.62720188084782}\n",
      "\n"
     ]
    },
    {
     "name": "stderr",
     "output_type": "stream",
     "text": [
      "epoch: 6: 100%|██████████| 69/69 [09:46<00:00,  8.51s/it, train loss=3.3309]\n",
      "epoch: 6: 100%|██████████| 11/11 [03:08<00:00, 17.17s/it, val loss=4.2574]\n"
     ]
    },
    {
     "name": "stdout",
     "output_type": "stream",
     "text": [
      "{'avg val loss': '3.1626', 'val acc': 99.69895694099675}\n",
      "\n"
     ]
    },
    {
     "name": "stderr",
     "output_type": "stream",
     "text": [
      "epoch: 7: 100%|██████████| 69/69 [09:47<00:00,  8.52s/it, train loss=2.7983]\n",
      "epoch: 7: 100%|██████████| 11/11 [03:09<00:00, 17.20s/it, val loss=3.6645]\n"
     ]
    },
    {
     "name": "stdout",
     "output_type": "stream",
     "text": [
      "{'avg val loss': '2.7593', 'val acc': 99.72856895646362}\n",
      "\n"
     ]
    },
    {
     "name": "stderr",
     "output_type": "stream",
     "text": [
      "epoch: 8: 100%|██████████| 69/69 [09:47<00:00,  8.52s/it, train loss=2.6033]\n",
      "epoch: 8: 100%|██████████| 11/11 [03:09<00:00, 17.24s/it, val loss=3.3257]\n"
     ]
    },
    {
     "name": "stdout",
     "output_type": "stream",
     "text": [
      "{'avg val loss': '2.4986', 'val acc': 99.74676878460951}\n",
      "\n"
     ]
    },
    {
     "name": "stderr",
     "output_type": "stream",
     "text": [
      "epoch: 9: 100%|██████████| 69/69 [09:47<00:00,  8.52s/it, train loss=2.4006]\n",
      "epoch: 9: 100%|██████████| 11/11 [03:09<00:00, 17.27s/it, val loss=3.1514]\n"
     ]
    },
    {
     "name": "stdout",
     "output_type": "stream",
     "text": [
      "{'avg val loss': '2.3511', 'val acc': 99.75810638247088}\n",
      "\n"
     ]
    },
    {
     "name": "stderr",
     "output_type": "stream",
     "text": [
      "epoch: 10: 100%|██████████| 69/69 [09:47<00:00,  8.51s/it, train loss=2.2596]\n",
      "epoch: 10: 100%|██████████| 11/11 [03:09<00:00, 17.19s/it, val loss=3.0224]\n"
     ]
    },
    {
     "name": "stdout",
     "output_type": "stream",
     "text": [
      "{'avg val loss': '2.2548', 'val acc': 99.76802678059958}\n",
      "\n"
     ]
    },
    {
     "name": "stderr",
     "output_type": "stream",
     "text": [
      "epoch: 11: 100%|██████████| 69/69 [09:47<00:00,  8.51s/it, train loss=2.1898]\n",
      "epoch: 11: 100%|██████████| 11/11 [03:09<00:00, 17.18s/it, val loss=2.9845]\n"
     ]
    },
    {
     "name": "stdout",
     "output_type": "stream",
     "text": [
      "{'avg val loss': '2.2299', 'val acc': 99.76899644357457}\n",
      "\n"
     ]
    },
    {
     "name": "stderr",
     "output_type": "stream",
     "text": [
      "test: 100%|██████████| 17/17 [02:53<00:00, 10.18s/it]\n"
     ]
    },
    {
     "name": "stdout",
     "output_type": "stream",
     "text": [
      "accuracy: 0.9977\n",
      "              precision    recall  f1-score   support\n",
      "\n",
      "           O      0.995     0.996     0.995    351595\n",
      "       B-PER      0.984     0.947     0.965      3129\n",
      "       I-PER      0.974     0.973     0.973      6089\n",
      "       B-ORG      0.895     0.847     0.870      3658\n",
      "       I-ORG      0.917     0.932     0.924     14799\n",
      "       B-LOC      0.931     0.900     0.915      6657\n",
      "       I-LOC      0.900     0.920     0.910      9114\n",
      "\n",
      "   micro avg      0.988     0.988     0.988    395041\n",
      "   macro avg      0.942     0.931     0.936    395041\n",
      "weighted avg      0.988     0.988     0.988    395041\n",
      "\n"
     ]
    }
   ],
   "source": [
    "def train(e, model, iterator, optimizer, scheduler, device):\n",
    "    model.train()\n",
    "    losses = 0.0\n",
    "    step = 0\n",
    "    for batch in (pbar := tqdm(iterator)):\n",
    "        step += 1\n",
    "        sentence, tags, mask = (i.to(device) for i in batch)\n",
    "\n",
    "        loss = model(sentence, tags, mask)\n",
    "        losses += loss.item()\n",
    "\n",
    "        loss.backward()\n",
    "        optimizer.step()\n",
    "        scheduler.step()\n",
    "        optimizer.zero_grad()\n",
    "\n",
    "        pbar.set_description(f'epoch: {e}')\n",
    "        pbar.set_postfix({'train loss': '{:.4f}'.format(loss.item())})\n",
    "\n",
    "    # print({'avg train loss': '{:.4f}'.format(losses/step)})\n",
    "\n",
    "def validate(e, model, iterator, device):\n",
    "    model.eval()\n",
    "    Y, Y_hat = [], []\n",
    "    losses = 0\n",
    "    step = 0\n",
    "    with torch.no_grad():\n",
    "        for batch in (pbar := tqdm(iterator)):\n",
    "            step += 1\n",
    "\n",
    "            sentence, tags, mask = (i.to(device) for i in batch)\n",
    "\n",
    "            y_hat = model(sentence, tags, mask, is_test=True)\n",
    "\n",
    "            loss = model(sentence, tags, mask)\n",
    "            losses += loss.item()\n",
    "            # Save prediction\n",
    "            for j in y_hat:\n",
    "              Y_hat.extend(j)\n",
    "            # Save labels\n",
    "            mask = (mask==1)\n",
    "            y_orig = torch.masked_select(tags, mask)\n",
    "            Y.append(y_orig.cpu())\n",
    "\n",
    "            pbar.set_description(f'epoch: {e}')\n",
    "            pbar.set_postfix({'val loss': '{:.4f}'.format(loss.item())})\n",
    "\n",
    "    Y = torch.cat(Y, dim=0).numpy()\n",
    "    Y_hat = np.array(Y_hat)\n",
    "    acc = (Y_hat == Y).mean()*100\n",
    "\n",
    "    print({'avg val loss': '{:.4f}'.format(losses/step), 'val acc': acc})\n",
    "    return model, losses/step, acc\n",
    "\n",
    "def test(model, iterator, device):\n",
    "    model.eval()\n",
    "    Y, Y_hat = [], []\n",
    "    with torch.no_grad():\n",
    "        for batch in (pbar := tqdm(iterator, desc='test')):\n",
    "            sentence, tags, mask = (i.to(device) for i in batch)\n",
    "            y_hat = model(sentence, tags, mask, is_test=True)\n",
    "            # Save prediction\n",
    "            for j in y_hat:\n",
    "              Y_hat.extend(j)\n",
    "            # Save labels\n",
    "            mask = (mask==1)\n",
    "            y_orig = torch.masked_select(tags, mask)\n",
    "            Y.append(y_orig.cpu())\n",
    "\n",
    "    Y = torch.cat(Y, dim=0).numpy()\n",
    "    y_true = [config.id2label[i] for i in Y]\n",
    "    y_pred = [config.id2label[i] for i in Y_hat]\n",
    "\n",
    "    return y_true, y_pred\n",
    "\n",
    "\n",
    "model = BertBiLSTMxCRF(config).to(config.device)\n",
    "optimizer = AdamW(model.parameters(), lr=1e-3, eps=1e-6, weight_decay=config.weight_decay)\n",
    "\n",
    "len_dataset = len(train_dataset) \n",
    "total_steps = (len_dataset // config.batch_size) * config.epoch if len_dataset % config.batch_size == 0 else (len_dataset // config.batch_size + 1) * config.epoch\n",
    "scheduler = get_linear_schedule_with_warmup(optimizer, num_warmup_steps = config.warm_up_ratio * total_steps, num_training_steps = total_steps)\n",
    "\n",
    "\n",
    "best_val_loss = 1e18\n",
    "best_val_acc = 1e-18\n",
    "for epoch in range(1, config.epoch+1):\n",
    "    train(epoch, model, train_loader, optimizer, scheduler, config.device)\n",
    "    candidate_model, loss, acc = validate(epoch, model, val_loader, config.device)\n",
    "\n",
    "    if loss < best_val_loss and acc > best_val_acc:\n",
    "        best_model = candidate_model\n",
    "        best_val_loss = loss\n",
    "        best_val_acc = acc\n",
    "        torch.save(model.state_dict(), config.model_dir)\n",
    "\n",
    "    print()\n",
    "\n",
    "y_test, y_pred = test(best_model, test_loader, config.device)\n",
    "print(metrics.classification_report(y_test, y_pred, labels=config.labels[:-3], digits=3))\n"
   ]
  },
  {
   "cell_type": "code",
   "execution_count": 18,
   "metadata": {},
   "outputs": [
    {
     "name": "stderr",
     "output_type": "stream",
     "text": [
      "Some weights of the model checkpoint at hfl/chinese-roberta-wwm-ext-large were not used when initializing BertModel: ['cls.seq_relationship.weight', 'cls.predictions.transform.LayerNorm.bias', 'cls.predictions.decoder.weight', 'cls.predictions.bias', 'cls.predictions.transform.LayerNorm.weight', 'cls.predictions.transform.dense.bias', 'cls.seq_relationship.bias', 'cls.predictions.transform.dense.weight']\n",
      "- This IS expected if you are initializing BertModel from the checkpoint of a model trained on another task or with another architecture (e.g. initializing a BertForSequenceClassification model from a BertForPreTraining model).\n",
      "- This IS NOT expected if you are initializing BertModel from the checkpoint of a model that you expect to be exactly identical (initializing a BertForSequenceClassification model from a BertForSequenceClassification model).\n",
      "test: 100%|██████████| 17/17 [02:56<00:00, 10.38s/it]\n"
     ]
    },
    {
     "name": "stdout",
     "output_type": "stream",
     "text": [
      "accuracy: 0.9977\n",
      "              precision    recall  f1-score   support\n",
      "\n",
      "           O      0.995     0.996     0.995    351595\n",
      "       B-PER      0.984     0.947     0.965      3129\n",
      "       I-PER      0.974     0.973     0.973      6089\n",
      "       B-ORG      0.895     0.847     0.870      3658\n",
      "       I-ORG      0.917     0.932     0.924     14799\n",
      "       B-LOC      0.931     0.900     0.915      6657\n",
      "       I-LOC      0.900     0.920     0.910      9114\n",
      "\n",
      "   micro avg      0.988     0.988     0.988    395041\n",
      "   macro avg      0.942     0.931     0.936    395041\n",
      "weighted avg      0.988     0.988     0.988    395041\n",
      "\n"
     ]
    }
   ],
   "source": [
    "best_model_saved = BertBiLSTMxCRF(config).to(config.device)\n",
    "best_model_saved.load_state_dict(torch.load(config.model_dir)) \n",
    "\n",
    "y_test, y_pred = test(best_model_saved, test_loader, config.device)\n",
    "print('accuracy: {:.4f}'.format(metrics.accuracy_score(y_test, y_pred)))\n",
    "print(metrics.classification_report(y_test, y_pred, labels=config.labels[:-3], digits=3))"
   ]
  }
 ],
 "metadata": {
  "interpreter": {
   "hash": "78541f15f2c4b81d86ddddb6e86bf971ec7142090c10c1d6650bca46129399f8"
  },
  "kernelspec": {
   "display_name": "Python 3.10.0 ('wimu-hw3')",
   "language": "python",
   "name": "python3"
  },
  "language_info": {
   "codemirror_mode": {
    "name": "ipython",
    "version": 3
   },
   "file_extension": ".py",
   "mimetype": "text/x-python",
   "name": "python",
   "nbconvert_exporter": "python",
   "pygments_lexer": "ipython3",
   "version": "3.10.0"
  },
  "orig_nbformat": 4
 },
 "nbformat": 4,
 "nbformat_minor": 2
}
