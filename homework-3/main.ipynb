{
 "cells": [
  {
   "cell_type": "code",
   "execution_count": null,
   "metadata": {},
   "outputs": [],
   "source": [
    "import pandas as pd\n",
    "\n",
    "def read_conll(filename):\n",
    "    df = pd.read_csv(filename, sep = '\\t', header = None, keep_default_na = False, names = ['words', 'labels'], skip_blank_lines = False)\n",
    "    df['sentence_id'] = (df.words == '').cumsum()\n",
    "    return df[df.words != '']\n",
    "\n",
    "train_df = pd.concat(read_conll('data/train.txt'), read_conll('data/dev.txt'))\n",
    "test_df = read_conll('data/test.txt')"
   ]
  },
  {
   "cell_type": "code",
   "execution_count": null,
   "metadata": {},
   "outputs": [],
   "source": [
    "train_args = {\n",
    "    'reprocess_input_data': True,\n",
    "    'overwrite_output_dir': True,\n",
    "    'sliding_window': True,\n",
    "    'max_seq_length': 64,\n",
    "    'num_train_epochs': 1,\n",
    "    'train_batch_size': 32,\n",
    "    'fp16': True,\n",
    "    'output_dir': '/outputs/',\n",
    "}"
   ]
  },
  {
   "cell_type": "code",
   "execution_count": null,
   "metadata": {},
   "outputs": [],
   "source": [
    "from simpletransformers.ner import NERModel\n",
    "from transformers import AutoTokenizer\n",
    "import pandas as pd\n",
    "import logging\n",
    "\n",
    "logging.basicConfig(level=logging.DEBUG)\n",
    "transformers_logger = logging.getLogger('transformers')\n",
    "transformers_logger.setLevel(logging.WARNING)\n",
    "\n",
    "# We use the bert base cased pre-trained model.\n",
    "tokenizer = AutoTokenizer.from_pretrained('bert-base-chinese')\n",
    "model = NERModel('bert', 'bert-base-chinese', args=train_args)\n",
    "\n",
    "# Train the model, there is no development or validation set for this dataset \n",
    "# https://simpletransformers.ai/docs/tips-and-tricks/#using-early-stopping\n",
    "model.train_model(train_df)\n",
    "\n",
    "# Evaluate the model in terms of accuracy score\n",
    "result, model_outputs, preds_list = model.eval_model(test_df)"
   ]
  },
  {
   "cell_type": "code",
   "execution_count": null,
   "metadata": {},
   "outputs": [],
   "source": [
    "samples = ['我 的 名 字 叫 蕭 文 仁 。 我 是 新 加 坡 人 。']\n",
    "predictions, _ = model.predict(samples)\n",
    "for idx, sample in enumerate(samples):\n",
    "  print('{}: '.format(idx))\n",
    "  for word in predictions[idx]:\n",
    "    print('{}'.format(word))"
   ]
  }
 ],
 "metadata": {
  "language_info": {
   "name": "python"
  },
  "orig_nbformat": 4
 },
 "nbformat": 4,
 "nbformat_minor": 2
}
